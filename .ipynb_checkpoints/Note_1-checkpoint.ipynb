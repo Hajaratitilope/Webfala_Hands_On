{
 "cells": [
  {
   "cell_type": "code",
   "execution_count": 1,
   "id": "c2fd44e6-dbfe-4231-aaaa-61451c1a8b8b",
   "metadata": {},
   "outputs": [
    {
     "name": "stdout",
     "output_type": "stream",
     "text": [
      "My name is Hajarat and I am trying my hands on some codes\n"
     ]
    }
   ],
   "source": [
    "print (\"My name is Hajarat and I am trying my hands on some codes\")"
   ]
  },
  {
   "cell_type": "markdown",
   "id": "aca2670f-1ced-4a13-88b3-953ee2ed9ad0",
   "metadata": {},
   "source": [
    "# The following set of codes are some learnings on w3school Python tutorial"
   ]
  },
  {
   "cell_type": "markdown",
   "id": "354482f2-14ac-477b-ac25-ac8b001c7a26",
   "metadata": {},
   "source": [
    "## Assigning values to variables"
   ]
  },
  {
   "cell_type": "code",
   "execution_count": 2,
   "id": "58e5c6e1-984d-4ea8-a2e0-f34911e0c35b",
   "metadata": {},
   "outputs": [
    {
     "name": "stdout",
     "output_type": "stream",
     "text": [
      "Hajarat\n",
      "Titilope\n",
      "OLUFADE\n"
     ]
    }
   ],
   "source": [
    "a = \"Hajarat\"\n",
    "b = \"Titilope\"\n",
    "c = \"OLUFADE\"\n",
    "print (a)\n",
    "print (b)\n",
    "print (c)"
   ]
  },
  {
   "cell_type": "code",
   "execution_count": 3,
   "id": "8eb30617-f55e-4a4c-8041-99754093a46b",
   "metadata": {},
   "outputs": [
    {
     "name": "stdout",
     "output_type": "stream",
     "text": [
      "7 is less than 11\n"
     ]
    }
   ],
   "source": [
    "if 7 < 11:\n",
    "    print (\"7 is less than 11\")"
   ]
  },
  {
   "cell_type": "markdown",
   "id": "d0accc39-bf51-4bea-949e-a0a48a9d8ad0",
   "metadata": {},
   "source": [
    "## Comments in Python"
   ]
  },
  {
   "cell_type": "code",
   "execution_count": 4,
   "id": "49c4c98d-3b89-445a-b6d4-8e44aca49eca",
   "metadata": {},
   "outputs": [],
   "source": [
    "# I am just trying to write a comment.\n",
    "# still trying to wrap my head around how the comment command is being used."
   ]
  },
  {
   "cell_type": "markdown",
   "id": "ce9034d5-dce9-485e-a56a-597d427cd2a5",
   "metadata": {},
   "source": [
    "### Multiline Comments in Python"
   ]
  },
  {
   "cell_type": "code",
   "execution_count": 5,
   "id": "c68ada88-5c5d-4c81-8dda-911fbf8ba6a0",
   "metadata": {},
   "outputs": [
    {
     "data": {
      "text/plain": [
       "'\\nI am just trying to write a comment.\\nstill trying to wrap my head around how the comment command is being used.\\n'"
      ]
     },
     "execution_count": 5,
     "metadata": {},
     "output_type": "execute_result"
    }
   ],
   "source": [
    "\"\"\"\n",
    "I am just trying to write a comment.\n",
    "still trying to wrap my head around how the comment command is being used.\n",
    "\"\"\""
   ]
  },
  {
   "cell_type": "markdown",
   "id": "21b63154-f60c-4d6d-b26c-555f2246d2e4",
   "metadata": {},
   "source": [
    "## Variable Type Tutorial"
   ]
  },
  {
   "cell_type": "code",
   "execution_count": 6,
   "id": "624230d8-a563-494f-bb6d-42cfce19e31e",
   "metadata": {},
   "outputs": [
    {
     "name": "stdout",
     "output_type": "stream",
     "text": [
      "<class 'str'>\n",
      "<class 'int'>\n",
      "<class 'float'>\n"
     ]
    }
   ],
   "source": [
    "a = \"Hajarat\"\n",
    "b = 32\n",
    "c = 32.0\n",
    "print (type(a))\n",
    "print (type (b))\n",
    "print (type (c))"
   ]
  },
  {
   "cell_type": "markdown",
   "id": "d8f1dada-c5ee-446b-a65f-a80b2a6ac582",
   "metadata": {},
   "source": [
    "## Variable Name Tutorial"
   ]
  },
  {
   "cell_type": "code",
   "execution_count": 7,
   "id": "b43487b7-ee9c-4eca-9cb2-01c6cc011c49",
   "metadata": {},
   "outputs": [
    {
     "name": "stdout",
     "output_type": "stream",
     "text": [
      "Ashraf\n",
      "YUSUF\n",
      "45.6 cm\n",
      "7\n",
      "B2\n"
     ]
    }
   ],
   "source": [
    "pupil_name = \"Ashraf\"\n",
    "PupilSurname = \"YUSUF\"\n",
    "Height = \"45.6 cm\"\n",
    "age = 7\n",
    "class_arm = \"B2\"\n",
    "print (pupil_name)\n",
    "print (PupilSurname)\n",
    "print (Height)\n",
    "print (age)\n",
    "print (class_arm)\n"
   ]
  },
  {
   "cell_type": "markdown",
   "id": "b4aaa9f7-2a2e-4501-b705-9ea86fc3ed51",
   "metadata": {},
   "source": [
    "## Many values = Multiple variables"
   ]
  },
  {
   "cell_type": "code",
   "execution_count": 8,
   "id": "e85637e5-80cc-4c6b-a7e1-4b5651c33584",
   "metadata": {},
   "outputs": [
    {
     "name": "stdout",
     "output_type": "stream",
     "text": [
      "1\n",
      "2\n",
      "Titilope\n"
     ]
    }
   ],
   "source": [
    "a, b, c = 1, 2, \"Titilope\"\n",
    "print (a)\n",
    "print (b)\n",
    "print (c)\n"
   ]
  },
  {
   "cell_type": "markdown",
   "id": "e793526e-0da4-47ee-81e2-441846211587",
   "metadata": {},
   "source": [
    "## One value = Multiple Variables"
   ]
  },
  {
   "cell_type": "code",
   "execution_count": 9,
   "id": "0339098a-375e-45a1-8e45-3ec5cc3a6032",
   "metadata": {},
   "outputs": [
    {
     "name": "stdout",
     "output_type": "stream",
     "text": [
      "2\n",
      "2\n",
      "2\n",
      "Ashraf\n",
      "Ashraf\n",
      "Ashraf\n"
     ]
    }
   ],
   "source": [
    "a = b = c = 2\n",
    "d = e = f = \"Ashraf\"\n",
    "print (a)\n",
    "print (b)\n",
    "print (c)\n",
    "print (d)\n",
    "print (e)\n",
    "print (f)"
   ]
  },
  {
   "cell_type": "markdown",
   "id": "d76acedc-4d7c-4d97-8229-a528518ed71e",
   "metadata": {},
   "source": [
    "## Unpacking"
   ]
  },
  {
   "cell_type": "code",
   "execution_count": 10,
   "id": "4c86af3c-84cb-41fc-a487-03cbc701250b",
   "metadata": {},
   "outputs": [
    {
     "name": "stdout",
     "output_type": "stream",
     "text": [
      "Nigeria\n",
      "China\n",
      "Canada\n"
     ]
    }
   ],
   "source": [
    "countries = [ \"Nigeria\", 'China', \"Canada\"]\n",
    "a, b, c = countries\n",
    "print (a)\n",
    "print (b)\n",
    "print (c)"
   ]
  },
  {
   "cell_type": "markdown",
   "id": "27a42c22-d9c6-4f46-ac13-6122efa0c887",
   "metadata": {},
   "source": [
    "## Variables Output"
   ]
  },
  {
   "cell_type": "code",
   "execution_count": 11,
   "id": "645b5e8d-9a22-4fe7-8339-b796ceed6924",
   "metadata": {},
   "outputs": [
    {
     "name": "stdout",
     "output_type": "stream",
     "text": [
      "14\n",
      "I am enjoying Python \n",
      "I  am  enjoying  Python \n",
      "6 Python \n"
     ]
    }
   ],
   "source": [
    "a = 6\n",
    "b = 8\n",
    "c = \"I \"\n",
    "d = \"am \"\n",
    "e = \"enjoying \"\n",
    "f = \"Python \"\n",
    "print (a + b)\n",
    "print (c+d+e+f)\n",
    "print (c, d, e, f)\n",
    "print (a, f)"
   ]
  },
  {
   "cell_type": "markdown",
   "id": "3f996c19-7b46-438f-bcd0-ef158dd3b6f2",
   "metadata": {},
   "source": [
    "# FIRST ASSIGNMENT COMPLETED"
   ]
  }
 ],
 "metadata": {
  "kernelspec": {
   "display_name": "Python 3 (ipykernel)",
   "language": "python",
   "name": "python3"
  },
  "language_info": {
   "codemirror_mode": {
    "name": "ipython",
    "version": 3
   },
   "file_extension": ".py",
   "mimetype": "text/x-python",
   "name": "python",
   "nbconvert_exporter": "python",
   "pygments_lexer": "ipython3",
   "version": "3.11.7"
  }
 },
 "nbformat": 4,
 "nbformat_minor": 5
}
