{
 "cells": [
  {
   "cell_type": "code",
   "execution_count": 1,
   "id": "c2fd44e6-dbfe-4231-aaaa-61451c1a8b8b",
   "metadata": {},
   "outputs": [
    {
     "name": "stdout",
     "output_type": "stream",
     "text": [
      "My name is Hajarat and I am trying my hands on some codes\n"
     ]
    }
   ],
   "source": [
    "print (\"My name is Hajarat and I am trying my hands on some codes\")"
   ]
  },
  {
   "cell_type": "markdown",
   "id": "aca2670f-1ced-4a13-88b3-953ee2ed9ad0",
   "metadata": {},
   "source": [
    "# The following set of codes are some learnings on w3school Python tutorial"
   ]
  },
  {
   "cell_type": "markdown",
   "id": "354482f2-14ac-477b-ac25-ac8b001c7a26",
   "metadata": {},
   "source": [
    "## Assigning values to variables"
   ]
  },
  {
   "cell_type": "code",
   "execution_count": 2,
   "id": "58e5c6e1-984d-4ea8-a2e0-f34911e0c35b",
   "metadata": {},
   "outputs": [
    {
     "name": "stdout",
     "output_type": "stream",
     "text": [
      "Hajarat\n",
      "Titilope\n",
      "OLUFADE\n"
     ]
    }
   ],
   "source": [
    "a = \"Hajarat\"\n",
    "b = \"Titilope\"\n",
    "c = \"OLUFADE\"\n",
    "print (a)\n",
    "print (b)\n",
    "print (c)"
   ]
  },
  {
   "cell_type": "code",
   "execution_count": 3,
   "id": "8eb30617-f55e-4a4c-8041-99754093a46b",
   "metadata": {},
   "outputs": [
    {
     "name": "stdout",
     "output_type": "stream",
     "text": [
      "7 is less than 11\n"
     ]
    }
   ],
   "source": [
    "if 7 < 11:\n",
    "    print (\"7 is less than 11\")"
   ]
  },
  {
   "cell_type": "code",
   "execution_count": null,
   "id": "066a36cd-1744-4272-856f-45105af85938",
   "metadata": {},
   "outputs": [],
   "source": []
  }
 ],
 "metadata": {
  "kernelspec": {
   "display_name": "Python 3 (ipykernel)",
   "language": "python",
   "name": "python3"
  },
  "language_info": {
   "codemirror_mode": {
    "name": "ipython",
    "version": 3
   },
   "file_extension": ".py",
   "mimetype": "text/x-python",
   "name": "python",
   "nbconvert_exporter": "python",
   "pygments_lexer": "ipython3",
   "version": "3.11.7"
  }
 },
 "nbformat": 4,
 "nbformat_minor": 5
}
